{
 "cells": [
  {
   "cell_type": "markdown",
   "metadata": {},
   "source": [
    "# <i class=\"fas fa-question-circle important\"></i> Generalising regression\n",
    "$$ \n",
    "\\newcommand{\\mat}[1]{\\begin{bmatrix}#1\\end{bmatrix}} \n",
    "\\renewcommand{\\vec}[1]{\\mathbf{#1}}\n",
    "%\\newcommand{\\norm}[2][{}]{\\|#2\\|_{#1}} \n",
    "$$\n"
   ]
  },
  {
   "cell_type": "code",
   "execution_count": 41,
   "metadata": {},
   "outputs": [],
   "source": [
    "import numpy as np\n",
    "from scipy import stats\n",
    "import matplotlib.pyplot as plt\n"
   ]
  },
  {
   "cell_type": "markdown",
   "metadata": {},
   "source": [
    "In this exercise you will generalise regression to $N$th order polynomials and use it to predict the price of a house (in Canadian dollars) based on its lot size (in square feet).\n",
    "\n",
    "Suppose you want to buy a house in the City of Windsor, Canada. You contact a real-estate salesperson to get information about current house prices and receive details on 546 properties sold in Windsor in the last two years. You would like to figure out what the expected cost of a house might be given only the lot size of the house you want to buy. Fortunately, his dataset has only one independent variable (i.e. `lotsize`, the lot size of a property) and one dependent variable (i.e. `price`, the sale price of a house). You will train the dataset using polynomial regression to predict the house prices.\n",
    "\n",
    "A polynomial *model* of order $N$ is defined by:\n",
    "\n",
    "$$\n",
    "f_\\theta(x) = \\theta_0 + \\theta_1 x + \\theta_2 x^2 + \\dots + \\theta_N x^N,\n",
    "$$\n",
    "\n",
    "in which, the coefficients $\\theta_i$ are the parameters of the model. Notice how the function is linear in the parameters, i.e. if $x$ is fixed, the function is linear. To estimate the parameters $\\theta_i$, you can therefore setup a linear equation and solve for $\\theta$:\n",
    "\n",
    "$$\n",
    "\\begin{bmatrix}\n",
    "    1 & x_1 & x_1^2 & x_1^3 & \\dots & x_1^N \\\\\n",
    "    1 & x_2 & x_2^2 & x_2^3 & \\dots & x_2^N \\\\\n",
    "    1 & x_3 & x_3^2 & x_3^3 & \\dots & x_3^N \\\\\n",
    "    \\vdots & \\vdots & \\vdots & \\vdots & \\ddots & \\vdots \\\\\n",
    "    1 & x_m & x_m^2 & x_m^3 & \\dots & x_m^N\n",
    "\\end{bmatrix}\n",
    "\\times\n",
    "\\begin{bmatrix}\n",
    "    \\theta_0 \\\\\n",
    "    \\theta_1 \\\\\n",
    "    \\theta_2 \\\\\n",
    "    \\theta_3 \\\\\n",
    "    \\vdots \\\\\n",
    "    \\theta_N\n",
    "\\end{bmatrix}\n",
    "=\n",
    "\\begin{bmatrix}\n",
    "    y_1 \\\\\n",
    "    y_2 \\\\\n",
    "    y_3 \\\\\n",
    "    \\vdots \\\\\n",
    "    y_m\n",
    "\\end{bmatrix},\n",
    "$$\n",
    "\n",
    "or more compactly: $A \\theta = y$. \n",
    "\n",
    "The *cost function* $\\ell(\\mathbf{\\hat{y}}, \\mathbf{y})$ for linear regression is the mean squared error between the known outputs $y_i$ and the predicted outputs $f_{\\theta}(x)$ of the model:\n",
    "\n",
    "$$\n",
    "\\begin{equation}\n",
    "\\ell(\\mathbf{\\hat{y}}, \\mathbf{y}) = (f_{\\theta}(x_{i})-y_{i})^2\n",
    "\\label{eq:CostFunction}\n",
    "\\end{equation}\n",
    "$$\n",
    "\n",
    "This cost function is simply the squarred error of each point. We know from the projection method that least squares minimises the sum of squares. In other words, the parameters $\\theta$ can be decided by solving the following optimisation problem:\n",
    "\n",
    "$$\n",
    "\\begin{equation}\n",
    "\\theta = \\underset{\\theta}{\\operatorname{argmin}} \\frac{1}{m}\\sum_{i=1}^{m} \\ell(f(x_i), \\mathbf{y_i})\n",
    "\\end{equation}\n",
    "$$\n",
    "\n",
    "Just to summarize, we have our *model* $f_\\theta(x)$ which is a polynomial function in $x$. We then want to find parameters $\\theta$ that minimizes the squared distance (the $\\frac{1}{m}$ is just for scaling). We know from linear algebra that projecting the vector $(f(x_1), \\dots, f(x_m)$ onto the column space of the design matrix defined by $A$ is equivalent to solving that optimisation problem.\n"
   ]
  },
  {
   "cell_type": "markdown",
   "metadata": {},
   "source": [
    "## 5.1 Data exploration\n",
    "\n",
    "We start by loading the dataset described above:\n"
   ]
  },
  {
   "cell_type": "code",
   "execution_count": 42,
   "metadata": {},
   "outputs": [],
   "source": [
    "filename = \"./inputs/simple_windsor.csv\"\n",
    "names = [\"lotsize\", \"price\"]\n",
    "dataset = np.loadtxt(filename, delimiter=',', dtype=np.int32)\n",
    "\n",
    "X_full, y_full = dataset.T\n"
   ]
  },
  {
   "cell_type": "markdown",
   "metadata": {},
   "source": [
    "Let us visualise the data:\n"
   ]
  },
  {
   "cell_type": "code",
   "execution_count": 43,
   "metadata": {},
   "outputs": [
    {
     "data": {
      "image/png": "[encoded data removed]",
      "text/plain": [
       "<Figure size 432x288 with 1 Axes>"
      ]
     },
     "metadata": {
      "needs_background": "light"
     },
     "output_type": "display_data"
    }
   ],
   "source": [
    "plt.scatter(X_full, y_full)\n",
    "plt.xlabel('Lot size')\n",
    "plt.ylabel('House price');\n"
   ]
  },
  {
   "cell_type": "markdown",
   "metadata": {
    "tags": []
   },
   "source": [
    "This visualisation already tells us a lot about the usefulnes of the data. Try to answer the following questions to the best of your abilities:\n",
    "\n",
    "### <i class=\"fas fa-thermometer-quarter important\"></i> Task (A)\n",
    "1. Notice the large spread in house prices for relatively similar lot sizes. Can you relate this to a real-world phenomenon? In other words, is it realistic to expect that the price of a house is determined solely by the lot size?\n",
    "\n",
    "Answer: In real-world is not realistic to expect that a price of house is determined solely by lot size.\n",
    "          Althoud is a important factor normaly there is other factors that determine the prices such as location,age and conditions, upgrades and other.\n",
    "        \n",
    "2. Can you imagine other factors that might be useful for modelling house prices?\n",
    "\n",
    "Answer: Other factor that can be useful to modelling house prices are: Local market, Locations and Interest rates.\n",
    "    \n",
    "3. Can you think of a method to evaluate how useful a given factor is in predicting the house price?\n",
    "\n",
    "Answer: ???\n"
   ]
  },
  {
   "cell_type": "markdown",
   "metadata": {
    "tags": []
   },
   "source": [
    "### Splitting into train and test data\n",
    "We use a helper function from the *Scikit Learn* library to split the dataset into $80\\%$ training data and $20\\%$ test data:\n"
   ]
  },
  {
   "cell_type": "code",
   "execution_count": 44,
   "metadata": {},
   "outputs": [],
   "source": [
    "from sklearn.model_selection import train_test_split\n",
    "\n",
    "X_train, X_test, y_train, y_test = train_test_split(X_full, y_full, test_size=0.2, random_state=42)\n"
   ]
  },
  {
   "cell_type": "markdown",
   "metadata": {},
   "source": [
    "## 5.2 Generalising regression\n",
    "First, we need to be able to generate design matrices as described above from a single input vector `X`. We provide the function below for creating design matrices for polynomials of arbitrary order:\n"
   ]
  },
  {
   "cell_type": "code",
   "execution_count": 45,
   "metadata": {},
   "outputs": [],
   "source": [
    "def get_design_matrix(x, order=1):\n",
    "    \"\"\"\n",
    "    Get the coefficients of polynomial in a least square sense of order N.\n",
    "    \n",
    "    :param x: Must be numpy array of size (N).\n",
    "    :order n: Order of Polynomial.\n",
    "    \"\"\"\n",
    "    \n",
    "    if order < 1 or x.ndim != 1:\n",
    "        return x\n",
    "\n",
    "    count = x.shape[0]\n",
    "    matrix = np.ones((count, order + 1), np.float64)\n",
    "\n",
    "    for i in range(1, order+1):\n",
    "        matrix[:, i] = np.power(x, i)\n",
    "\n",
    "    return matrix\n"
   ]
  },
  {
   "cell_type": "markdown",
   "metadata": {},
   "source": [
    "### <i class=\"fas fa-thermometer-three-quarters important\"></i> Task (B)\n",
    "1. **Estimate parameters:** Implement the function `estimate(X, y, order)` below. The function should use `np.linalg.lstsq()` to estimate parameters for the model. Use `get_design_matrix(X, order)` to generate an appropriate design matrix.\n"
   ]
  },
  {
   "cell_type": "code",
   "execution_count": 46,
   "metadata": {},
   "outputs": [],
   "source": [
    "def estimate(X, y, order):\n",
    "    \"\"\"\n",
    "    :param X: Input vector.\n",
    "    :param y: Training data values.\n",
    "    :param order: Order of the model to estimate.\n",
    "    \n",
    "    :return: Parameters of model.\n",
    "    \"\"\"\n",
    "    ...\n"
   ]
  },
  {
   "cell_type": "markdown",
   "metadata": {},
   "source": [
    "2. **Model:** Implement the function `linear_model(X, params)` below. It should compute the house price `y` for a given feature vector `X`\n"
   ]
  },
  {
   "cell_type": "code",
   "execution_count": 47,
   "metadata": {},
   "outputs": [],
   "source": [
    "def linear_model(X, params):\n",
    "    \"\"\"\n",
    "    :param X: Input vector.\n",
    "    :param params: Estimated parameters.\n",
    "    \n",
    "    :return: Predicted y-values.\n",
    "    \"\"\"\n",
    "    ...\n"
   ]
  },
  {
   "cell_type": "markdown",
   "metadata": {},
   "source": [
    "3. **Prediction:** The variable `values` contains the integer values between the minimum and maximum lot sizes from the dataset. (A) Estimate parameters from `X_train` and `y_train`. (B) Then calculate the predicted `y`-values for `values` using the estimated parameters. (C) Plot the predicted values as a line-plot.\n"
   ]
  },
  {
   "cell_type": "code",
   "execution_count": 48,
   "metadata": {},
   "outputs": [
    {
     "data": {
      "text/plain": [
       "<matplotlib.collections.PathCollection at 0x7f532bb4a430>"
      ]
     },
     "execution_count": 48,
     "metadata": {},
     "output_type": "execute_result"
    },
    {
     "data": {
      "image/png": "[encoded data removed]",
      "text/plain": [
       "<Figure size 432x288 with 1 Axes>"
      ]
     },
     "metadata": {
      "needs_background": "light"
     },
     "output_type": "display_data"
    }
   ],
   "source": [
    "values = np.linspace(X_full.min(), X_full.max(), 50)\n",
    "\n",
    "# (A) Estimate parameters\n",
    "\n",
    "# (B) Evaluate model\n",
    "\n",
    "plt.scatter(X_train, y_train)\n",
    "\n",
    "# (C) Plot predicted values\n"
   ]
  },
  {
   "cell_type": "markdown",
   "metadata": {},
   "source": [
    "4. **Increasing orders:** Try to use higher order polynomials in the estimation and prediction code above. You should see the predictions starting to deviate drastically for orders above 3 or 4. Do you have any idea why this happens? *Hint: It has to do with the behavior of floating point numbers at extreme values.*\n"
   ]
  },
  {
   "cell_type": "markdown",
   "metadata": {},
   "source": [
    "The above problem can be solved simply by normalizing the *lot sizes*. We provide the following functions for easy normalization and unnormalization:\n"
   ]
  },
  {
   "cell_type": "code",
   "execution_count": 49,
   "metadata": {},
   "outputs": [],
   "source": [
    "def normalized(X):\n",
    "    n = (X - np.min(X_full))/np.max(X_full)\n",
    "    return n\n",
    "\n",
    "def unnormalized(X):\n",
    "    return X*np.max(X_full) + np.min(X_full)\n"
   ]
  },
  {
   "cell_type": "markdown",
   "metadata": {},
   "source": [
    "5. **Normalization:** Redo the estimation from task B3 above but with normalized values for `X_train`. Plot the results and experiment with different values for the order. \n"
   ]
  },
  {
   "cell_type": "code",
   "execution_count": 50,
   "metadata": {},
   "outputs": [
    {
     "data": {
      "text/plain": [
       "<matplotlib.collections.PathCollection at 0x7f532bb32b50>"
      ]
     },
     "execution_count": 50,
     "metadata": {},
     "output_type": "execute_result"
    },
    {
     "data": {
      "image/png": "[encoded data removed]",
      "text/plain": [
       "<Figure size 432x288 with 1 Axes>"
      ]
     },
     "metadata": {
      "needs_background": "light"
     },
     "output_type": "display_data"
    }
   ],
   "source": [
    "values = np.linspace(X_full.min(), X_full.max(), 50)\n",
    "\n",
    "# Estimate parameters and predict y-values\n",
    "\n",
    "plt.scatter(X_train, y_train, c=\"g\")\n",
    "\n",
    "# Plot predicted values\n"
   ]
  },
  {
   "cell_type": "markdown",
   "metadata": {},
   "source": [
    "## 5.3 Evaluation\n",
    "We now want to evaluate the model using the test data. You will calculate the *root mean squarred error* for various orders of polynomials and use the error to decide which order has the best tradeoff between bias and variance (underfitting/overfitting).\n",
    "\n",
    "The *root mean squared error* is simply the square root of the *mean squared error*: \n",
    "$$\n",
    " \\sqrt{\\frac{1}{m}\\sum_{i=1}^{m}(h_{\\theta}(x_{i})-y_{i})^2}\n",
    "$$\n",
    "We use it because it represents the average error in the same units as the data, i.e. house prices in our case.\n"
   ]
  },
  {
   "cell_type": "markdown",
   "metadata": {},
   "source": [
    "### <i class=\"fas fa-thermometer-half important\"></i> Task (C)\n",
    "1. **Error function:** Implement the `rmse` function below. Remember to normalize the X-values.\n"
   ]
  },
  {
   "cell_type": "code",
   "execution_count": 51,
   "metadata": {},
   "outputs": [],
   "source": [
    "def rmse(theta, X, y):\n",
    "    ...\n"
   ]
  },
  {
   "cell_type": "markdown",
   "metadata": {},
   "source": [
    "2. **Test models:** Finish the implementation of `test_models` below. It should estimate parameters for a given order polynomial using the training data and then record the train and test losses using the `rmse` function.\n"
   ]
  },
  {
   "cell_type": "code",
   "execution_count": 52,
   "metadata": {},
   "outputs": [],
   "source": [
    "def test_models():\n",
    "    losses_train = []\n",
    "    losses_test = []\n",
    "    for order in range(1, 20):\n",
    "        # Add code here\n",
    "        rmse_train = ...\n",
    "        rmse_test = ...\n",
    "        \n",
    "        losses_train.append(rmse_train)\n",
    "        losses_test.append(rmse_test)\n",
    "    return losses_train, losses_test\n"
   ]
  },
  {
   "cell_type": "markdown",
   "metadata": {},
   "source": [
    "3. **Plot both losses:** Plot the losses. Are the results what you expected? How does this relate to the dilemma of underfitting and overfitting? \n"
   ]
  },
  {
   "cell_type": "code",
   "execution_count": null,
   "metadata": {},
   "outputs": [],
   "source": []
  },
  {
   "cell_type": "code",
   "execution_count": 53,
   "metadata": {},
   "outputs": [
    {
     "ename": "SyntaxError",
     "evalue": "invalid syntax (3961234774.py, line 3)",
     "output_type": "error",
     "traceback": [
      "\u001b[0;36m  Input \u001b[0;32mIn [53]\u001b[0;36m\u001b[0m\n\u001b[0;31m    2. Would you be able to improve the test loss to an arbitrary low value using a different model? If yes, explain what model you might use. If no, explain why not.\u001b[0m\n\u001b[0m       ^\u001b[0m\n\u001b[0;31mSyntaxError\u001b[0m\u001b[0;31m:\u001b[0m invalid syntax\n"
     ]
    }
   ],
   "source": [
    "### <i class=\"fas fa-thermometer-quarter important\"></i> Task (D)\n",
    "1. What does the loss plots tell you about the precision of the models in general?\n",
    "2. Would you be able to improve the test loss to an arbitrary low value using a different model? If yes, explain what model you might use. If no, explain why not.\n"
   ]
  }
 ],
 "metadata": {
  "interpreter": {
   "hash": "58004f4a9b52f30f2f02951fc7e37ee3032cf21ade773b235ffa3b2610a82225"
  },
  "kernelspec": {
   "display_name": "Python 3 (ipykernel)",
   "language": "python",
   "name": "python3"
  },
  "language_info": {
   "codemirror_mode": {
    "name": "ipython",
    "version": 3
   },
   "file_extension": ".py",
   "mimetype": "text/x-python",
   "name": "python",
   "nbconvert_exporter": "python",
   "pygments_lexer": "ipython3",
   "version": "3.9.10"
  }
 },
 "nbformat": 4,
 "nbformat_minor": 4
}
